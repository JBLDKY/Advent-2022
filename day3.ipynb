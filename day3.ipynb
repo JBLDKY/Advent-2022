{
 "cells": [
  {
   "cell_type": "code",
   "execution_count": 44,
   "metadata": {},
   "outputs": [],
   "source": [
    "import string\n",
    "from io import StringIO\n",
    "alphabet = list(string.ascii_lowercase) + list(string.ascii_uppercase)\n",
    "numbers = [i for i in range(1, len(alphabet)+1)]\n",
    "priorities = dict(zip(alphabet, numbers))"
   ]
  },
  {
   "cell_type": "code",
   "execution_count": 45,
   "metadata": {},
   "outputs": [
    {
     "name": "stdout",
     "output_type": "stream",
     "text": [
      "8105\n",
      "2363\n"
     ]
    }
   ],
   "source": [
    "with open('input3.txt', 'r') as f:\n",
    "    lines = f.readlines()\n",
    "    lines = [line.strip() for line in lines]\n",
    "\n",
    "class Solution:\n",
    "    def __init__(self, lines, priorities, alphabet, numbers):\n",
    "        self.lines = lines\n",
    "        self.priorities = priorities\n",
    "        self.alphabet = alphabet\n",
    "        self.numbers = numbers\n",
    "        self.index = 0\n",
    "        self.sum = 0\n",
    "\n",
    "    def get_next(self):\n",
    "        self.cur = self.lines[self.index]\n",
    "    \n",
    "    def split(self):\n",
    "        half = int(len(self.cur) / 2)\n",
    "        self.left = self.cur[half:]\n",
    "        self.right = self.cur[:half]\n",
    "    \n",
    "    def find_intersect(self):\n",
    "        _left = set(self.left)\n",
    "        _right = set(self.right)\n",
    "        self.dupe = _left.intersection(_right).pop()\n",
    "    \n",
    "    def get_priority(self):\n",
    "       self.sum += self.priorities[self.dupe]\n",
    "    \n",
    "    def solve(self):\n",
    "        while self.index < len(self.lines):\n",
    "            self.get_next()\n",
    "            self.split()\n",
    "            self.find_intersect()\n",
    "            self.get_priority()\n",
    "            self.index += 1\n",
    "        print(self.sum)\n",
    "    \n",
    "    def get_next2(self):\n",
    "        self.cur_set = [self.lines[self.index], self.lines[self.index+1], self.lines[self.index+2]]\n",
    "    \n",
    "    def find_intersect2(self):\n",
    "        one = set(self.cur_set[0])\n",
    "        two = set(self.cur_set[1])\n",
    "        three = set(self.cur_set[2])\n",
    "        onetwo = one.intersection(two)\n",
    "        self.trupe = onetwo.intersection(three).pop()\n",
    "    \n",
    "    def get_priority2(self):\n",
    "        self.sum += self.priorities[self.trupe]\n",
    "\n",
    "    def solve2(self):\n",
    "        while self.index < (len(self.lines)-2):\n",
    "            self.get_next2()\n",
    "            self.find_intersect2()\n",
    "            self.get_priority2()\n",
    "            self.index += 3\n",
    "        print(self.sum)\n",
    "\n",
    "\n",
    "\n",
    "\n",
    "sol = Solution(lines, priorities, alphabet, numbers)\n",
    "sol.solve()\n",
    "\n",
    "sol2 = Solution(lines, priorities, alphabet, numbers)\n",
    "sol2.solve2()\n",
    "\n"
   ]
  }
 ],
 "metadata": {
  "kernelspec": {
   "display_name": "Python 3.10.6 64-bit",
   "language": "python",
   "name": "python3"
  },
  "language_info": {
   "codemirror_mode": {
    "name": "ipython",
    "version": 3
   },
   "file_extension": ".py",
   "mimetype": "text/x-python",
   "name": "python",
   "nbconvert_exporter": "python",
   "pygments_lexer": "ipython3",
   "version": "3.10.6"
  },
  "orig_nbformat": 4,
  "vscode": {
   "interpreter": {
    "hash": "bf94fab044b8ddb6019f3f809b49ae8073475f4f31ec608820b16201dc7a747e"
   }
  }
 },
 "nbformat": 4,
 "nbformat_minor": 2
}
