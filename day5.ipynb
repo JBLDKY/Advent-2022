{
 "cells": [
  {
   "cell_type": "code",
   "execution_count": 53,
   "metadata": {},
   "outputs": [
    {
     "name": "stdout",
     "output_type": "stream",
     "text": [
      "Q\n",
      "L\n",
      "F\n",
      "Q\n",
      "D\n",
      "B\n",
      "B\n",
      "H\n",
      "M\n"
     ]
    }
   ],
   "source": [
    "from io import StringIO\n",
    "import numpy as np\n",
    "with open('input5.txt') as f:\n",
    "    input_file = f.read()\n",
    "\n",
    "input_file = input_file.replace(\"move\", \"\")\n",
    "input_file = input_file.replace(\"from\", \"\")\n",
    "input_file = input_file.replace(\"to\", \"\")\n",
    "input_file = input_file.split(\"\\n\")\n",
    "input_file = [x.split() for x in input_file]\n",
    "one = [\"D\", \"T\", \"W\", \"F\", \"J\", \"S\", \"H\", \"N\"]\n",
    "two = [\"H\", \"R\", \"P\", \"Q\", \"T\", \"N\", \"B\", \"G\"]\n",
    "three = [\"L\", \"Q\", \"V\"]\n",
    "four = [\"N\", \"B\", \"S\", \"W\", \"R\", \"Q\"]\n",
    "five = [\"N\", \"D\", \"F\", \"T\", \"V\", \"M\", \"B\"]\n",
    "six = [\"M\", \"D\", \"B\", \"V\", \"H\", \"T\", \"R\"]\n",
    "seven = [\"D\", \"B\", \"Q\", \"J\"]\n",
    "eight = [\"D\", \"N\", \"J\", \"V\", \"R\", \"Z\", \"H\", \"Q\"]\n",
    "nine = [\"B\", \"N\", \"H\", \"M\", \"S\"]\n",
    "stacks = [one, two, three, four, five, six, seven, eight, nine]\n",
    "\n",
    "\n",
    "def solution_one(): \n",
    "    for instruction in input_file[10:]:\n",
    "        i = 0\n",
    "        while i < int(instruction[0]):\n",
    "            crate = stacks[int(instruction[1]) - 1].pop()\n",
    "            stacks[int(instruction[2]) - 1].append(crate)\n",
    "            i += 1\n",
    "    for x in stacks:\n",
    "        print(x[-1])\n",
    "\n",
    "def solution_two():\n",
    "    for instruction in input_file[10:]:\n",
    "        i1 = int(instruction[0])\n",
    "        i2 = int(instruction[1])\n",
    "        i3 = int(instruction[2])\n",
    "\n",
    "        crates = stacks[i2 - 1][-i1:]\n",
    "        stacks[i2 - 1] = stacks[i2 - 1][:-i1]\n",
    "        stacks[i3 - 1].extend(crates)\n",
    "\n",
    "    for x in stacks:\n",
    "        print(x[-1])\n",
    "\n",
    "\n",
    "# can only solve one at a time\n",
    "solution_two()\n"
   ]
  },
  {
   "cell_type": "code",
   "execution_count": null,
   "metadata": {},
   "outputs": [],
   "source": []
  }
 ],
 "metadata": {
  "kernelspec": {
   "display_name": "Python 3.10.6 64-bit",
   "language": "python",
   "name": "python3"
  },
  "language_info": {
   "codemirror_mode": {
    "name": "ipython",
    "version": 3
   },
   "file_extension": ".py",
   "mimetype": "text/x-python",
   "name": "python",
   "nbconvert_exporter": "python",
   "pygments_lexer": "ipython3",
   "version": "3.10.6"
  },
  "orig_nbformat": 4,
  "vscode": {
   "interpreter": {
    "hash": "bf94fab044b8ddb6019f3f809b49ae8073475f4f31ec608820b16201dc7a747e"
   }
  }
 },
 "nbformat": 4,
 "nbformat_minor": 2
}
