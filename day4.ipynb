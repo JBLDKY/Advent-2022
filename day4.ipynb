{
 "cells": [
  {
   "cell_type": "code",
   "execution_count": 73,
   "metadata": {},
   "outputs": [],
   "source": [
    "from io import StringIO\n",
    "\n"
   ]
  },
  {
   "cell_type": "code",
   "execution_count": 74,
   "metadata": {},
   "outputs": [
    {
     "name": "stdout",
     "output_type": "stream",
     "text": [
      "573\n",
      "867\n"
     ]
    }
   ],
   "source": [
    "class Solution:\n",
    "    def __init__(self, input_file):\n",
    "        self.input = input_file\n",
    "        self.pairs = []\n",
    "        self.a = 0\n",
    "        self.b = 1\n",
    "        self.score = 0\n",
    "        self.score2 = 0\n",
    "\n",
    "    def __repr__(self):\n",
    "        return self.input\n",
    "    \n",
    "    def clean(self):\n",
    "        self.input = self.input.replace(\"\\n\", \",\")\n",
    "        self.input = self.input.split(\",\")\n",
    "        self.input = [i.split(\"-\") for i in self.input]\n",
    "    \n",
    "    def get_next(self):\n",
    "        self.elf_one = set([num for num in range(int(self.input[self.a][0]), int(self.input[self.a][1])+1)])\n",
    "        self.elf_two = set([num for num in range(int(self.input[self.b][0]), int(self.input[self.b][1])+1)])\n",
    "\n",
    "        \n",
    "    def check_sub(self):\n",
    "        if         self.elf_one.issubset(self.elf_two):\n",
    "            self.score += 1\n",
    "        elif self.elf_two.issubset(self.elf_one):\n",
    "            self.score += 1\n",
    "\n",
    "    def check_overlap(self):\n",
    "        if self.elf_one.intersection(self.elf_two):\n",
    "            self.score2 += 1\n",
    "        self.a += 2\n",
    "        self.b += 2\n",
    "\n",
    "with open('input4.txt') as f:\n",
    "    input_file = f.read()\n",
    "\n",
    "sol_1 = Solution(input_file)\n",
    "sol_1.clean()\n",
    "\n",
    "while sol_1.b < len(sol_1.input):\n",
    "    sol_1.get_next()\n",
    "    sol_1.check_sub()\n",
    "    sol_1.check_overlap()\n",
    "\n",
    "print(sol_1.score)\n",
    "print(sol_1.score2)\n"
   ]
  },
  {
   "cell_type": "code",
   "execution_count": null,
   "metadata": {},
   "outputs": [],
   "source": []
  }
 ],
 "metadata": {
  "kernelspec": {
   "display_name": "Python 3.10.6 64-bit",
   "language": "python",
   "name": "python3"
  },
  "language_info": {
   "codemirror_mode": {
    "name": "ipython",
    "version": 3
   },
   "file_extension": ".py",
   "mimetype": "text/x-python",
   "name": "python",
   "nbconvert_exporter": "python",
   "pygments_lexer": "ipython3",
   "version": "3.10.6"
  },
  "orig_nbformat": 4,
  "vscode": {
   "interpreter": {
    "hash": "bf94fab044b8ddb6019f3f809b49ae8073475f4f31ec608820b16201dc7a747e"
   }
  }
 },
 "nbformat": 4,
 "nbformat_minor": 2
}
